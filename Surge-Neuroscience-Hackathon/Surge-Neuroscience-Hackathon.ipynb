{
 "cells": [
  {
   "cell_type": "markdown",
   "metadata": {},
   "source": [
    "# Surge Neuroscience Hackathon"
   ]
  },
  {
   "cell_type": "markdown",
   "metadata": {},
   "source": [
    "### By Carlos Calix Woc\n",
    "## Project Idea\n",
    "\n",
    "The Neuroscience Hackathon was a competition hosted [Surge](https://surgeinnovation.ca/), an innovation sandbox at Dalhousie University in Halifax, Nova Scotia (Canada). It was an interdisciplinary event, focusing on the fields of  computer science and neuroscience backgrounds and required the use Brain Computer Interface (BCI) Technology to develop an innovative product.\n",
    "\n",
    "My team came up with the idea of developing a product that would assist people in rational decision making when they are not capable of doing so. Our proposed idea was named Horcrux (named after the magical objects in Harry Potter, where its creator would leave a part of his soul in the object, [click here for more details](https://harrypotter.fandom.com/wiki/Horcrux)). The application would alert users when they are not making rational decisions based on data that has been collected from the user when he had a rational state of mind.\n",
    "\n",
    "In this competition, we applied this concept of rational decision making to a dating application, where a user would take pictures of another person and the application would indicate if the user would find the person attractive, based on previously collected data.\n",
    "\n",
    "## Project Architecture\n",
    "\n",
    "The project would consist in three phases. First, the user would be required to use a electroencephalogram (EEG) device to capture [N-170 waves](https://en.wikipedia.org/wiki/N170), an event-related wave that tends to spike on face inversion and emotional expressions. Pictures of neutral and expressionless faces would be presented to the user, who would have to indicate whether the person presented is attractive or not through an interface. Images labeled as attractive would be stored in a database for subsequent machine-learning based analysis\n",
    "\n",
    "Second, machine learning algorithms would then analyze the images to detect the type of features the user finds attractive in a person in order to train the model for subsequent use. \n",
    "\n",
    "Third, the user would be able to input new images and the application would indicate whether the person actually finds the person attractive or not, thus saving himself from many embarrasing situations.\n",
    "\n",
    "Even though, the goal of this project was mainly for recreational purposes, the implications of the BCI technology has are many. The follow up to this project would be to compare it against Convolutional Neural Networks and compare the level of accuracy of using BCI technlogy versus Deep Learning. Moreover, this technology could assist users in making rational decisions when not in a clear state of mind, such as in the case of users with depression for instance. \n",
    "\n",
    "<img src = "bci-app.png" />\n",
    "\n",
    "## Project Summary\n",
    "\n",
    "Due to time constraints, the scope of the project was reduced. On one hand, the neuroscience students focused on developing the BCI interface to showcase how the application would look like. On the other hand, as the lead data scientist in the project, I decided to focus on running a proof of concept and show whether machine learning algorithms can be used to classify attractive persons based on average-user preferences.\n",
    "\n",
    "The proof of concept was run using used the [Chicago Face Database](https://chicagofaces.org/default/) (V2.0.3), an open-source dataset consisting in standardized images of male and females faces between the ages of 17-65. The data includes physical attributes (e.g nose size, face size, race) and relative measures (e.g ratio from size to nose). More important it includes a subjective attractiveness attribute as rated by independent judges. All metrics have been quantified and can be processed using machine learning algorithms.\n"
   ]
  },
  {
   "cell_type": "markdown",
   "metadata": {},
   "source": [
    "## Importing the necessary libraries"
   ]
  },
  {
   "cell_type": "code",
   "execution_count": 86,
   "metadata": {},
   "outputs": [],
   "source": [
    "import numpy as np\n",
    "import pandas as pd\n",
    "import matplotlib.pyplot as plt\n",
    "import seaborn as sns\n",
    "from sklearn.model_selection import train_test_split \n",
    "from sklearn import linear_model, tree, svm\n",
    "from sklearn.naive_bayes import GaussianNB\n",
    "from sklearn.discriminant_analysis import LinearDiscriminantAnalysis as LDA\n",
    "from sklearn import svm\n",
    "from sklearn.metrics import confusion_matrix\n",
    "from sklearn.linear_model import LogisticRegression\n",
    "\n",
    "face_db = pd.read_csv(\"cfd-dataset.csv\")"
   ]
  },
  {
   "cell_type": "code",
   "execution_count": 87,
   "metadata": {
    "scrolled": true
   },
   "outputs": [
    {
     "data": {
      "text/html": [
       "<div>\n",
       "<style scoped>\n",
       "    .dataframe tbody tr th:only-of-type {\n",
       "        vertical-align: middle;\n",
       "    }\n",
       "\n",
       "    .dataframe tbody tr th {\n",
       "        vertical-align: top;\n",
       "    }\n",
       "\n",
       "    .dataframe thead th {\n",
       "        text-align: right;\n",
       "    }\n",
       "</style>\n",
       "<table border=\"1\" class=\"dataframe\">\n",
       "  <thead>\n",
       "    <tr style=\"text-align: right;\">\n",
       "      <th></th>\n",
       "      <th>Target</th>\n",
       "      <th>Race</th>\n",
       "      <th>Gender</th>\n",
       "      <th>Age</th>\n",
       "      <th>NumberofRaters</th>\n",
       "      <th>Female_prop</th>\n",
       "      <th>Male_prop</th>\n",
       "      <th>Asian_prop</th>\n",
       "      <th>Black_prop</th>\n",
       "      <th>Latino_prop</th>\n",
       "      <th>...</th>\n",
       "      <th>EyeShape</th>\n",
       "      <th>EyeSize</th>\n",
       "      <th>UpperHeadLength</th>\n",
       "      <th>MidfaceLength</th>\n",
       "      <th>ChinLength</th>\n",
       "      <th>ForeheadHeight</th>\n",
       "      <th>CheekboneHeight</th>\n",
       "      <th>CheekboneProminence</th>\n",
       "      <th>FaceRoundness</th>\n",
       "      <th>fWHR</th>\n",
       "    </tr>\n",
       "  </thead>\n",
       "  <tbody>\n",
       "    <tr>\n",
       "      <th>0</th>\n",
       "      <td>AF-200</td>\n",
       "      <td>A</td>\n",
       "      <td>F</td>\n",
       "      <td>32.571429</td>\n",
       "      <td>28</td>\n",
       "      <td>1.000000</td>\n",
       "      <td>0.000000</td>\n",
       "      <td>1.000000</td>\n",
       "      <td>0.000000</td>\n",
       "      <td>0.000000</td>\n",
       "      <td>...</td>\n",
       "      <td>0.404651</td>\n",
       "      <td>0.060924</td>\n",
       "      <td>0.414099</td>\n",
       "      <td>0.326797</td>\n",
       "      <td>0.130719</td>\n",
       "      <td>0.264706</td>\n",
       "      <td>0.388189</td>\n",
       "      <td>91.5</td>\n",
       "      <td>0.545752</td>\n",
       "      <td>1.921146</td>\n",
       "    </tr>\n",
       "    <tr>\n",
       "      <th>1</th>\n",
       "      <td>AF-201</td>\n",
       "      <td>A</td>\n",
       "      <td>F</td>\n",
       "      <td>23.666667</td>\n",
       "      <td>27</td>\n",
       "      <td>1.000000</td>\n",
       "      <td>0.000000</td>\n",
       "      <td>0.962963</td>\n",
       "      <td>0.000000</td>\n",
       "      <td>0.000000</td>\n",
       "      <td>...</td>\n",
       "      <td>0.329204</td>\n",
       "      <td>0.041892</td>\n",
       "      <td>0.414414</td>\n",
       "      <td>0.329279</td>\n",
       "      <td>0.144595</td>\n",
       "      <td>0.300901</td>\n",
       "      <td>0.383784</td>\n",
       "      <td>146.0</td>\n",
       "      <td>0.488288</td>\n",
       "      <td>1.901129</td>\n",
       "    </tr>\n",
       "    <tr>\n",
       "      <th>2</th>\n",
       "      <td>AF-202</td>\n",
       "      <td>A</td>\n",
       "      <td>F</td>\n",
       "      <td>24.448276</td>\n",
       "      <td>29</td>\n",
       "      <td>0.827586</td>\n",
       "      <td>0.172414</td>\n",
       "      <td>0.310345</td>\n",
       "      <td>0.068966</td>\n",
       "      <td>0.137931</td>\n",
       "      <td>...</td>\n",
       "      <td>0.357939</td>\n",
       "      <td>0.051586</td>\n",
       "      <td>0.411080</td>\n",
       "      <td>0.310317</td>\n",
       "      <td>0.173424</td>\n",
       "      <td>0.298475</td>\n",
       "      <td>0.397029</td>\n",
       "      <td>58.0</td>\n",
       "      <td>0.481333</td>\n",
       "      <td>1.888249</td>\n",
       "    </tr>\n",
       "    <tr>\n",
       "      <th>3</th>\n",
       "      <td>AF-203</td>\n",
       "      <td>A</td>\n",
       "      <td>F</td>\n",
       "      <td>22.758621</td>\n",
       "      <td>29</td>\n",
       "      <td>1.000000</td>\n",
       "      <td>0.000000</td>\n",
       "      <td>0.758621</td>\n",
       "      <td>0.000000</td>\n",
       "      <td>0.068966</td>\n",
       "      <td>...</td>\n",
       "      <td>0.443200</td>\n",
       "      <td>0.063913</td>\n",
       "      <td>0.354407</td>\n",
       "      <td>0.343793</td>\n",
       "      <td>0.169820</td>\n",
       "      <td>0.272266</td>\n",
       "      <td>0.421089</td>\n",
       "      <td>87.5</td>\n",
       "      <td>0.500231</td>\n",
       "      <td>1.863719</td>\n",
       "    </tr>\n",
       "    <tr>\n",
       "      <th>4</th>\n",
       "      <td>AF-204</td>\n",
       "      <td>A</td>\n",
       "      <td>F</td>\n",
       "      <td>30.137931</td>\n",
       "      <td>29</td>\n",
       "      <td>1.000000</td>\n",
       "      <td>0.000000</td>\n",
       "      <td>0.827586</td>\n",
       "      <td>0.000000</td>\n",
       "      <td>0.068966</td>\n",
       "      <td>...</td>\n",
       "      <td>0.432247</td>\n",
       "      <td>0.053435</td>\n",
       "      <td>0.438931</td>\n",
       "      <td>0.293045</td>\n",
       "      <td>0.180237</td>\n",
       "      <td>0.293893</td>\n",
       "      <td>0.371925</td>\n",
       "      <td>73.5</td>\n",
       "      <td>0.513571</td>\n",
       "      <td>1.935783</td>\n",
       "    </tr>\n",
       "  </tbody>\n",
       "</table>\n",
       "<p>5 rows × 69 columns</p>\n",
       "</div>"
      ],
      "text/plain": [
       "   Target Race Gender        Age  NumberofRaters  Female_prop  Male_prop  \\\n",
       "0  AF-200    A      F  32.571429              28     1.000000   0.000000   \n",
       "1  AF-201    A      F  23.666667              27     1.000000   0.000000   \n",
       "2  AF-202    A      F  24.448276              29     0.827586   0.172414   \n",
       "3  AF-203    A      F  22.758621              29     1.000000   0.000000   \n",
       "4  AF-204    A      F  30.137931              29     1.000000   0.000000   \n",
       "\n",
       "   Asian_prop  Black_prop  Latino_prop  ...  EyeShape   EyeSize  \\\n",
       "0    1.000000    0.000000     0.000000  ...  0.404651  0.060924   \n",
       "1    0.962963    0.000000     0.000000  ...  0.329204  0.041892   \n",
       "2    0.310345    0.068966     0.137931  ...  0.357939  0.051586   \n",
       "3    0.758621    0.000000     0.068966  ...  0.443200  0.063913   \n",
       "4    0.827586    0.000000     0.068966  ...  0.432247  0.053435   \n",
       "\n",
       "   UpperHeadLength  MidfaceLength  ChinLength  ForeheadHeight  \\\n",
       "0         0.414099       0.326797    0.130719        0.264706   \n",
       "1         0.414414       0.329279    0.144595        0.300901   \n",
       "2         0.411080       0.310317    0.173424        0.298475   \n",
       "3         0.354407       0.343793    0.169820        0.272266   \n",
       "4         0.438931       0.293045    0.180237        0.293893   \n",
       "\n",
       "   CheekboneHeight  CheekboneProminence  FaceRoundness      fWHR  \n",
       "0         0.388189                 91.5       0.545752  1.921146  \n",
       "1         0.383784                146.0       0.488288  1.901129  \n",
       "2         0.397029                 58.0       0.481333  1.888249  \n",
       "3         0.421089                 87.5       0.500231  1.863719  \n",
       "4         0.371925                 73.5       0.513571  1.935783  \n",
       "\n",
       "[5 rows x 69 columns]"
      ]
     },
     "execution_count": 87,
     "metadata": {},
     "output_type": "execute_result"
    }
   ],
   "source": [
    "face_db.head()"
   ]
  },
  {
   "cell_type": "code",
   "execution_count": 88,
   "metadata": {
    "scrolled": true
   },
   "outputs": [
    {
     "name": "stdout",
     "output_type": "stream",
     "text": [
      "<class 'pandas.core.frame.DataFrame'>\n",
      "RangeIndex: 597 entries, 0 to 596\n",
      "Data columns (total 69 columns):\n",
      "Target                 597 non-null object\n",
      "Race                   597 non-null object\n",
      "Gender                 597 non-null object\n",
      "Age                    597 non-null float64\n",
      "NumberofRaters         597 non-null int64\n",
      "Female_prop            597 non-null float64\n",
      "Male_prop              597 non-null float64\n",
      "Asian_prop             597 non-null float64\n",
      "Black_prop             597 non-null float64\n",
      "Latino_prop            597 non-null float64\n",
      "Multi_prop             597 non-null float64\n",
      "Other_prop             597 non-null float64\n",
      "White_prop             597 non-null float64\n",
      "Afraid                 597 non-null float64\n",
      "Angry                  597 non-null float64\n",
      "Attractive             597 non-null float64\n",
      "Babyface               597 non-null float64\n",
      "Disgusted              597 non-null float64\n",
      "Dominant               597 non-null float64\n",
      "Feminine               597 non-null float64\n",
      "Happy                  597 non-null float64\n",
      "Masculine              597 non-null float64\n",
      "Prototypic             597 non-null float64\n",
      "Sad                    597 non-null float64\n",
      "Suitability            597 non-null object\n",
      "Surprised              597 non-null float64\n",
      "Threatening            597 non-null float64\n",
      "Trustworthy            597 non-null float64\n",
      "Unusual                597 non-null float64\n",
      "Luminance_median       597 non-null float64\n",
      "Nose_Width             597 non-null float64\n",
      "Nose_Length            597 non-null float64\n",
      "Lip_Thickness          597 non-null float64\n",
      "Face_Length            597 non-null float64\n",
      "R_Eye_H                597 non-null float64\n",
      "L_Eye_H                597 non-null float64\n",
      "Avg_Eye_Height         597 non-null float64\n",
      "R_Eye_W                597 non-null float64\n",
      "L_Eye_W                597 non-null float64\n",
      "Avg_Eye_Width          597 non-null float64\n",
      "Face_Width_Cheeks      597 non-null float64\n",
      "Face_Width_Mouth       597 non-null float64\n",
      "Forehead               597 non-null float64\n",
      "Pupil_Top_R            597 non-null float64\n",
      "Pupil_Top_L            597 non-null float64\n",
      "Asymmetry_pupil_top    597 non-null float64\n",
      "Pupil_Lip_R            597 non-null float64\n",
      "Pupil_Lip_L            597 non-null float64\n",
      "Asymmetry_pupil_lip    597 non-null float64\n",
      "BottomLip_Chin         597 non-null float64\n",
      "Midcheek_Chin_R        597 non-null float64\n",
      "Midcheek_Chin_L        597 non-null float64\n",
      "Cheeks_avg             597 non-null float64\n",
      "Midbrow_Hairline_R     597 non-null float64\n",
      "Midbrow_Hairline_L     597 non-null float64\n",
      "Faceshape              597 non-null float64\n",
      "Heartshapeness         597 non-null float64\n",
      "Noseshape              597 non-null float64\n",
      "LipFullness            597 non-null float64\n",
      "EyeShape               597 non-null float64\n",
      "EyeSize                597 non-null float64\n",
      "UpperHeadLength        597 non-null float64\n",
      "MidfaceLength          597 non-null float64\n",
      "ChinLength             597 non-null float64\n",
      "ForeheadHeight         597 non-null float64\n",
      "CheekboneHeight        597 non-null float64\n",
      "CheekboneProminence    597 non-null float64\n",
      "FaceRoundness          597 non-null float64\n",
      "fWHR                   597 non-null float64\n",
      "dtypes: float64(64), int64(1), object(4)\n",
      "memory usage: 321.9+ KB\n"
     ]
    }
   ],
   "source": [
    "face_db.info()"
   ]
  },
  {
   "cell_type": "markdown",
   "metadata": {},
   "source": [
    "## Preprocessing the data"
   ]
  },
  {
   "cell_type": "markdown",
   "metadata": {},
   "source": [
    "\n",
    "### Attractiveness and gender attributes have been set to binary form.  Any rating above 3 will be considered attractive."
   ]
  },
  {
   "cell_type": "code",
   "execution_count": 89,
   "metadata": {},
   "outputs": [],
   "source": [
    "face_db[\"Attractiveness\"] = [1 if score >= 3 else 0 for score in face_db[\"Attractive\"]]\n",
    "face_db['Is_Female'] = [1 if gender == 'F' else 0 for gender in face_db['Gender']]"
   ]
  },
  {
   "cell_type": "markdown",
   "metadata": {},
   "source": [
    "### Remove all subjective norming data"
   ]
  },
  {
   "cell_type": "code",
   "execution_count": 90,
   "metadata": {},
   "outputs": [],
   "source": [
    "face_db = face_db.drop(['Attractive','Gender','Race', 'Target', 'NumberofRaters','Female_prop', 'Male_prop','Asian_prop',\n",
    "                        'Black_prop','Latino_prop','Multi_prop','Other_prop','White_prop',\n",
    "                       'Afraid', 'Angry', 'Babyface', 'Disgusted', 'Dominant', 'Feminine', 'Happy', 'Masculine','Prototypic',\n",
    "                       'Sad', 'Suitability', 'Surprised', 'Threatening', 'Trustworthy', 'Unusual'], axis = 1)"
   ]
  },
  {
   "cell_type": "markdown",
   "metadata": {},
   "source": [
    "There seems to be a high correlation between direct facial measures and derived measures. For instance, the correlation between the pupil lips and the facial width to height ratio (fWHR) is 70%. This will cause multicollinearity issues during the machine learning process as the model will overfit. Moreover we won't be able to distinguish what variable is contributing to the model's accuracy.\n",
    "\n",
    "Two different machine learning tests will be run: one with the direct measures and another one with derived measures."
   ]
  },
  {
   "cell_type": "code",
   "execution_count": 91,
   "metadata": {
    "scrolled": true
   },
   "outputs": [
    {
     "data": {
      "text/plain": [
       "<matplotlib.axes._subplots.AxesSubplot at 0x13c2c6b7198>"
      ]
     },
     "execution_count": 91,
     "metadata": {},
     "output_type": "execute_result"
    },
    {
     "data": {
      "image/png": "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\n",
      "text/plain": [
       "<Figure size 792x648 with 2 Axes>"
      ]
     },
     "metadata": {
      "needs_background": "light"
     },
     "output_type": "display_data"
    }
   ],
   "source": [
    "correlation = face_db.corr()\n",
    "\n",
    "f, ax = plt.subplots(figsize=(11, 9))\n",
    "\n",
    "# Generate a custom diverging colormap\n",
    "cmap = sns.diverging_palette(220, 10, as_cmap=True)\n",
    "\n",
    "# Draw the heatmap with the mask and correct aspect ratio\n",
    "sns.heatmap(correlation, cmap=cmap, vmax=.3, center=0,\n",
    "            square=True, linewidths=.5, cbar_kws={\"shrink\": .5})\n"
   ]
  },
  {
   "cell_type": "markdown",
   "metadata": {},
   "source": [
    "## Test 1: LDA with Direct Measures Only"
   ]
  },
  {
   "cell_type": "markdown",
   "metadata": {},
   "source": [
    "Linear Discriminant Analysis has been applied in order to reduce the dimensionality, thus making it faster to process the model."
   ]
  },
  {
   "cell_type": "code",
   "execution_count": 110,
   "metadata": {},
   "outputs": [],
   "source": [
    "test_1 = face_db.drop(['Avg_Eye_Height', 'Avg_Eye_Width', 'Asymmetry_pupil_top', 'Asymmetry_pupil_lip', 'Cheeks_avg',\n",
    "                    'Faceshape','Heartshapeness','Noseshape','LipFullness',\n",
    "                     'EyeShape','EyeSize','UpperHeadLength','MidfaceLength','ChinLength','ForeheadHeight','CheekboneHeight',\n",
    "                     'CheekboneProminence','FaceRoundness','fWHR'],axis =1)"
   ]
  },
  {
   "cell_type": "code",
   "execution_count": 111,
   "metadata": {},
   "outputs": [],
   "source": [
    "x = test_1.drop('Attractiveness', axis = 1)\n",
    "y = test_1.Attractiveness\n",
    "\n",
    "model = LDA(n_components=2)\n",
    "X_lda = model.fit_transform(x, y)"
   ]
  },
  {
   "cell_type": "code",
   "execution_count": 112,
   "metadata": {
    "scrolled": true
   },
   "outputs": [
    {
     "name": "stdout",
     "output_type": "stream",
     "text": [
      "CART Decision Trees Accuracy score: 0.6733333333333333\n"
     ]
    }
   ],
   "source": [
    "x_train, x_test, y_train, y_test = train_test_split(X_lda, y, test_size=0.25, \n",
    "                                                    random_state=1) \n",
    "clf = tree.DecisionTreeClassifier(max_depth = 10)\n",
    "clf.fit(x_train, y_train)\n",
    "\n",
    "print(\"CART Decision Trees Accuracy score: {}\".format(clf.score(x_test, y_test)))"
   ]
  },
  {
   "cell_type": "code",
   "execution_count": 113,
   "metadata": {},
   "outputs": [
    {
     "name": "stdout",
     "output_type": "stream",
     "text": [
      "Naive Bayes Accuracy score: 0.68\n"
     ]
    }
   ],
   "source": [
    "gnb = GaussianNB()\n",
    "gnb.fit(x_train, y_train)\n",
    "print(\"Naive Bayes Accuracy score: {}\".format(gnb.score(x_test, y_test)))"
   ]
  },
  {
   "cell_type": "code",
   "execution_count": 114,
   "metadata": {},
   "outputs": [
    {
     "name": "stdout",
     "output_type": "stream",
     "text": [
      "SVM Accuracy score: 0.7\n"
     ]
    }
   ],
   "source": [
    "clf = svm.SVC(gamma='scale')\n",
    "clf.fit(x_train, y_train)\n",
    "print(\"SVM Accuracy score: {}\".format(clf.score(x_test, y_test)))"
   ]
  },
  {
   "cell_type": "code",
   "execution_count": 115,
   "metadata": {},
   "outputs": [
    {
     "name": "stdout",
     "output_type": "stream",
     "text": [
      "KNN Accuracy score: 0.6866666666666666\n"
     ]
    }
   ],
   "source": [
    "knn = KNeighborsClassifier(n_neighbors=3)\n",
    "knn.fit(x_train, y_train)\n",
    "pred = knn.predict(x_test)\n",
    "print(\"KNN Accuracy score: {}\".format(accuracy_score(y_test, pred)))"
   ]
  },
  {
   "cell_type": "code",
   "execution_count": 116,
   "metadata": {
    "scrolled": true
   },
   "outputs": [
    {
     "name": "stdout",
     "output_type": "stream",
     "text": [
      "Logistic Regression Accuracy score: 0.7\n"
     ]
    },
    {
     "name": "stderr",
     "output_type": "stream",
     "text": [
      "C:\\Users\\cjc5n\\Anaconda3\\lib\\site-packages\\sklearn\\linear_model\\logistic.py:433: FutureWarning: Default solver will be changed to 'lbfgs' in 0.22. Specify a solver to silence this warning.\n",
      "  FutureWarning)\n"
     ]
    }
   ],
   "source": [
    "lr = LogisticRegression()\n",
    "lr.fit(x_train, y_train)\n",
    "print(\"Logistic Regression Accuracy score: {}\".format(clf.score(x_test, y_test)))"
   ]
  },
  {
   "cell_type": "markdown",
   "metadata": {},
   "source": [
    "## Test 2: LDA with Derived Measures Only"
   ]
  },
  {
   "cell_type": "code",
   "execution_count": 104,
   "metadata": {},
   "outputs": [],
   "source": [
    "test_2 = face_db.drop(['Luminance_median', 'Nose_Width', 'Nose_Length', 'Lip_Thickness', 'Face_Length',\n",
    "                      'R_Eye_H', 'L_Eye_H', 'R_Eye_W', 'L_Eye_W', 'Face_Width_Cheeks', 'Face_Width_Mouth',\n",
    "                      'Forehead', 'Pupil_Top_R', 'Pupil_Top_L', 'Pupil_Lip_R', 'Pupil_Lip_L',\n",
    "                       'BottomLip_Chin', 'Midcheek_Chin_R', 'Midcheek_Chin_L', 'Midbrow_Hairline_R',\n",
    "                      'Midbrow_Hairline_L'], axis = 1)\n",
    "\n",
    "x = test_2.drop('Attractiveness', axis = 1)\n",
    "y = test_2.Attractiveness\n",
    "\n",
    "\n",
    "model = LDA(n_components=2)\n",
    "X_lda = model.fit_transform(x, y)"
   ]
  },
  {
   "cell_type": "code",
   "execution_count": 105,
   "metadata": {},
   "outputs": [
    {
     "name": "stdout",
     "output_type": "stream",
     "text": [
      "CART Decision Trees Accuracy score: 0.7333333333333333\n"
     ]
    }
   ],
   "source": [
    "x_train, x_test, y_train, y_test = train_test_split(X_lda, y, test_size=0.25, \n",
    "                                                    random_state=1) \n",
    "clf = tree.DecisionTreeClassifier(max_depth = 10)\n",
    "clf.fit(x_train, y_train)\n",
    "\n",
    "print(\"CART Decision Trees Accuracy score: {}\".format(clf.score(x_test, y_test)))"
   ]
  },
  {
   "cell_type": "code",
   "execution_count": 106,
   "metadata": {},
   "outputs": [
    {
     "name": "stdout",
     "output_type": "stream",
     "text": [
      "Naive Bayes Accuracy score: 0.7133333333333334\n"
     ]
    }
   ],
   "source": [
    "gnb = GaussianNB()\n",
    "gnb.fit(x_train, y_train)\n",
    "print(\"Naive Bayes Accuracy score: {}\".format(gnb.score(x_test, y_test)))"
   ]
  },
  {
   "cell_type": "code",
   "execution_count": 107,
   "metadata": {},
   "outputs": [
    {
     "name": "stdout",
     "output_type": "stream",
     "text": [
      "SVM Accuracy score: 0.74\n"
     ]
    }
   ],
   "source": [
    "clf = svm.SVC(gamma='scale')\n",
    "clf.fit(x_train, y_train)\n",
    "print(\"SVM Accuracy score: {}\".format(clf.score(x_test, y_test)))"
   ]
  },
  {
   "cell_type": "code",
   "execution_count": 108,
   "metadata": {},
   "outputs": [
    {
     "name": "stdout",
     "output_type": "stream",
     "text": [
      "KNN Accuracy score: 0.68\n"
     ]
    }
   ],
   "source": [
    "knn = KNeighborsClassifier(n_neighbors=3)\n",
    "knn.fit(x_train, y_train)\n",
    "pred = knn.predict(x_test)\n",
    "print(\"KNN Accuracy score: {}\".format(accuracy_score(y_test, pred)))"
   ]
  },
  {
   "cell_type": "code",
   "execution_count": 109,
   "metadata": {
    "scrolled": true
   },
   "outputs": [
    {
     "name": "stdout",
     "output_type": "stream",
     "text": [
      "Logistic Regression Accuracy score: 0.74\n"
     ]
    },
    {
     "name": "stderr",
     "output_type": "stream",
     "text": [
      "C:\\Users\\cjc5n\\Anaconda3\\lib\\site-packages\\sklearn\\linear_model\\logistic.py:433: FutureWarning: Default solver will be changed to 'lbfgs' in 0.22. Specify a solver to silence this warning.\n",
      "  FutureWarning)\n"
     ]
    }
   ],
   "source": [
    "lr = LogisticRegression()\n",
    "lr.fit(x_train, y_train)\n",
    "print(\"Logistic Regression Accuracy score: {}\".format(clf.score(x_test, y_test)))"
   ]
  },
  {
   "cell_type": "markdown",
   "metadata": {},
   "source": [
    "## Conclusion \n",
    "\n",
    "After running two different models, we can see that the LDA model with the derived measures achieved a higher accuracy when compared the model with the direct measures. Both SVM and Logistic Regression algorithms yielded the highest accuracy with a total of 74%. This model shows that attractiveness can be predicted by providing the model with numeric measurements. The next steps would be to create a convolutional neural network and test this experiment with high quality images, where the neural network would be able to identify the features a person might find attractive through the analysis of RGB values.\n",
    "\n",
    "\n",
    "\n",
    "<img src = \"results.png\"/>\n"
   ]
  }
 ],
 "metadata": {
  "kernelspec": {
   "display_name": "Python 3",
   "language": "python",
   "name": "python3"
  },
  "language_info": {
   "codemirror_mode": {
    "name": "ipython",
    "version": 3
   },
   "file_extension": ".py",
   "mimetype": "text/x-python",
   "name": "python",
   "nbconvert_exporter": "python",
   "pygments_lexer": "ipython3",
   "version": "3.7.3"
  }
 },
 "nbformat": 4,
 "nbformat_minor": 2
}
